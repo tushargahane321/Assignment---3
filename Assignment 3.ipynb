{
 "cells": [
  {
   "cell_type": "code",
   "execution_count": null,
   "id": "15367e1e-5893-452a-86b9-c8d32120efff",
   "metadata": {},
   "outputs": [],
   "source": [
    "#(1)_Explain with an example each when to use a for loop and a while loop."
   ]
  },
  {
   "cell_type": "code",
   "execution_count": null,
   "id": "df61048e-337e-48a8-ad35-88b2f7eda31d",
   "metadata": {},
   "outputs": [],
   "source": [
    "For loop: A for loop is a control flow statement that executes code repeatedly for a particular number of iterations. In this control flow statement, the keyword used is for. The for loop is used when the number of iterations is already known."
   ]
  },
  {
   "cell_type": "code",
   "execution_count": 8,
   "id": "ce44be68-7458-4cc8-81dd-0f54aba5014d",
   "metadata": {},
   "outputs": [
    {
     "name": "stdout",
     "output_type": "stream",
     "text": [
      "1\n",
      "2\n",
      "3\n"
     ]
    }
   ],
   "source": [
    "#example\n",
    "n = [1, 2, 3]  \n",
    "for i in n:  \n",
    "    print(i)"
   ]
  },
  {
   "cell_type": "code",
   "execution_count": null,
   "id": "b8b912be-1d19-4c25-ba43-56f1265c4a8e",
   "metadata": {},
   "outputs": [],
   "source": [
    "While loop: A loop that executes a single statement or a group of statements for the given true condition. The keyword used to represent this loop is \"while\". A \"while\" loop is used when the number of iterations is unknown. The statement repeats itself till the boolean value becomes false. In a while loop, the condition is tested at the start, also known as the pre-test loop"
   ]
  },
  {
   "cell_type": "code",
   "execution_count": 9,
   "id": "8c22f540-b7bd-4cb7-9a56-bdb9253050e2",
   "metadata": {},
   "outputs": [
    {
     "name": "stdout",
     "output_type": "stream",
     "text": [
      "1\n",
      "2\n",
      "3\n",
      "4\n",
      "5\n"
     ]
    }
   ],
   "source": [
    "#example\n",
    "i = 1 \n",
    "while i < 6:  \n",
    "    print(i)\n",
    "    i += 1 \n"
   ]
  },
  {
   "cell_type": "code",
   "execution_count": null,
   "id": "7384c423-bf21-4298-8709-6329364e69db",
   "metadata": {},
   "outputs": [],
   "source": [
    "#(2)_Write a python program to print the sum and product of the first 10 natural numbers using for and while loop."
   ]
  },
  {
   "cell_type": "code",
   "execution_count": 19,
   "id": "aef25030-dcc9-46b5-b0a9-c288a64173f4",
   "metadata": {},
   "outputs": [
    {
     "name": "stdout",
     "output_type": "stream",
     "text": [
      "The result is 55\n",
      "The result is 3628800\n"
     ]
    }
   ],
   "source": [
    "sum = 0\n",
    "product = 1\n",
    "i=1\n",
    "while(i <=10):\n",
    "       sum += i\n",
    "       product = product * i \n",
    "       i += 1\n",
    "print(\"The result is\", sum)\n",
    "print(\"The result is\",product)"
   ]
  },
  {
   "cell_type": "code",
   "execution_count": 17,
   "id": "75b8a0b3-2fce-49f4-bd8e-caf3d2e029e6",
   "metadata": {},
   "outputs": [
    {
     "name": "stdout",
     "output_type": "stream",
     "text": [
      "The result is 55\n",
      "The result is 3628800\n"
     ]
    }
   ],
   "source": [
    "sum = 0\n",
    "product = 1\n",
    "\n",
    "for i in range(1,11):\n",
    "    sum+= i\n",
    "    product = product * i\n",
    "print(\"The result is\",sum)\n",
    "print(\"The result is\",product)"
   ]
  },
  {
   "cell_type": "code",
   "execution_count": null,
   "id": "b4347b19-0b66-4b9c-958e-66aeb15850f0",
   "metadata": {},
   "outputs": [],
   "source": [
    "#(3)_create a python program to compute the electricity bill for a household"
   ]
  },
  {
   "cell_type": "code",
   "execution_count": 3,
   "id": "752e097d-ff48-4fa4-bb48-e48c544f5df9",
   "metadata": {},
   "outputs": [
    {
     "name": "stdin",
     "output_type": "stream",
     "text": [
      "enter numbe of unit consume by user: 310\n"
     ]
    },
    {
     "name": "stdout",
     "output_type": "stream",
     "text": [
      "Bill: 2250.0\n"
     ]
    }
   ],
   "source": [
    "units = int(input(\"enter numbe of unit consume by user:\"))\n",
    "\n",
    "\n",
    "if units <=100:\n",
    "    bills= units*4.5\n",
    "\n",
    "elif units <=200:\n",
    "    bills=( (units-100)*6 +(100*4.5))\n",
    "\n",
    "elif units <= 300:\n",
    "     bills= ((units -200)*10 + (100*4.5+200*6))\n",
    "\n",
    "else:\n",
    "    bills= (units-300)*20 + (100*4.5 + 100*6 + 100*10)\n",
    "print(\"Bill:\", bills)\n",
    "    "
   ]
  },
  {
   "cell_type": "code",
   "execution_count": null,
   "id": "91be46c6-c06f-4612-8ffc-cbf68899eb20",
   "metadata": {},
   "outputs": [],
   "source": [
    "#(4)_create a list of numbers from 1 to 100. use for loop and while loop to calculate the cube of each number and if the cube of that number is divisible by 4 or 5 then append that number in a list and print that list."
   ]
  },
  {
   "cell_type": "code",
   "execution_count": 4,
   "id": "7a67052e-898c-4410-8d5e-2cbb7393f3ef",
   "metadata": {},
   "outputs": [
    {
     "name": "stdout",
     "output_type": "stream",
     "text": [
      "[2, 4, 5, 6, 8, 10, 12, 14, 15, 16, 18, 20, 22, 24, 25, 26, 28, 30, 32, 34, 35, 36, 38, 40, 42, 44, 45, 46, 48, 50, 52, 54, 55, 56, 58, 60, 62, 64, 65, 66, 68, 70, 72, 74, 75, 76, 78, 80, 82, 84, 85, 86, 88, 90, 92, 94, 95, 96, 98, 100]\n"
     ]
    }
   ],
   "source": [
    "l = []\n",
    "for number in range(1,101):\n",
    "    cube = number**3\n",
    "    if cube%4==0 or cube%5==0:\n",
    "        l.append(number)\n",
    "print(l)"
   ]
  },
  {
   "cell_type": "code",
   "execution_count": 18,
   "id": "09c35577-1d04-4f93-8fa0-5a3c51f77dae",
   "metadata": {},
   "outputs": [
    {
     "name": "stdout",
     "output_type": "stream",
     "text": [
      "[2, 4, 5, 6, 8, 10, 12, 14, 15, 16, 18, 20, 22, 24, 25, 26, 28, 30, 32, 34, 35, 36, 38, 40, 42, 44, 45, 46, 48, 50, 52, 54, 55, 56, 58, 60, 62, 64, 65, 66, 68, 70, 72, 74, 75, 76, 78, 80, 82, 84, 85, 86, 88, 90, 92, 94, 95, 96, 98, 100]\n"
     ]
    }
   ],
   "source": [
    "list_of_number = list(range(1,101))\n",
    "final_list = []\n",
    "i=0\n",
    "while i<= len(list_of_number)- 1:\n",
    "    cube = list_of_number[i]**3\n",
    "    if cube%4==0 or cube%5==0:\n",
    "        final_list.append(list_of_number[i])\n",
    "    i+=1\n",
    "print(final_list)"
   ]
  },
  {
   "cell_type": "code",
   "execution_count": null,
   "id": "5d1849c6-0881-41c4-b594-3908079201ad",
   "metadata": {},
   "outputs": [],
   "source": [
    "#(5)_write a program to filer count vowels in the below-given string."
   ]
  },
  {
   "cell_type": "code",
   "execution_count": 5,
   "id": "9c820afe-03b0-4067-8934-4d7b5b3e5edf",
   "metadata": {},
   "outputs": [
    {
     "name": "stdout",
     "output_type": "stream",
     "text": [
      "Number of vowels in the given string is:  11\n"
     ]
    }
   ],
   "source": [
    "string = \"I want to become a data scientist\"\n",
    "\n",
    "\n",
    "count = 0\n",
    "\n",
    "for i in range(len(string)):\n",
    "    if (\n",
    "        (string[i] == \"a\")\n",
    "        or (string[i] == \"e\")\n",
    "        or (string[i] == \"i\")\n",
    "        or (string[i] == \"o\")\n",
    "        or (string[i] == \"u\")\n",
    "    ):\n",
    "        count += 1\n",
    "\n",
    "print(\"Number of vowels in the given string is: \", count)"
   ]
  },
  {
   "cell_type": "code",
   "execution_count": null,
   "id": "6b0c599c-a5b7-4f41-a5c4-693c6af27e77",
   "metadata": {},
   "outputs": [],
   "source": []
  }
 ],
 "metadata": {
  "kernelspec": {
   "display_name": "Python 3 (ipykernel)",
   "language": "python",
   "name": "python3"
  },
  "language_info": {
   "codemirror_mode": {
    "name": "ipython",
    "version": 3
   },
   "file_extension": ".py",
   "mimetype": "text/x-python",
   "name": "python",
   "nbconvert_exporter": "python",
   "pygments_lexer": "ipython3",
   "version": "3.10.8"
  }
 },
 "nbformat": 4,
 "nbformat_minor": 5
}
